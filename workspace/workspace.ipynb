{
 "cells": [
  {
   "cell_type": "code",
   "execution_count": 2,
   "metadata": {},
   "outputs": [
    {
     "name": "stdout",
     "output_type": "stream",
     "text": [
      "pandoc -t markdown -o 5.md .\\riyad5.html\n",
      "pandoc -t markdown -o 6.md .\\riyad6.html\n",
      "pandoc -t markdown -o 7.md .\\riyad7.html\n",
      "pandoc -t markdown -o 8.md .\\riyad8.html\n",
      "pandoc -t markdown -o 9.md .\\riyad9.html\n"
     ]
    }
   ],
   "source": [
    "for x in range (5, 10):\n",
    "    print(f'pandoc -t markdown -o {x}.md .\\\\riyad{x}.html')"
   ]
  }
 ],
 "metadata": {
  "kernelspec": {
   "display_name": "Python 3",
   "language": "python",
   "name": "python3"
  },
  "language_info": {
   "codemirror_mode": {
    "name": "ipython",
    "version": 3
   },
   "file_extension": ".py",
   "mimetype": "text/x-python",
   "name": "python",
   "nbconvert_exporter": "python",
   "pygments_lexer": "ipython3",
   "version": "3.12.5"
  }
 },
 "nbformat": 4,
 "nbformat_minor": 2
}
